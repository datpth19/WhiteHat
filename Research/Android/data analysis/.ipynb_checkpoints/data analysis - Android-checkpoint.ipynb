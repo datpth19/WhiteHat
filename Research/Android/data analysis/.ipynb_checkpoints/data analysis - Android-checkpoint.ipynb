{
 "cells": [
  {
   "cell_type": "markdown",
   "metadata": {},
   "source": [
    "__Author: Christian Camilo Urcuqui López__\n",
    "\n",
    "__Date: 3 May 2016__"
   ]
  },
  {
   "cell_type": "markdown",
   "metadata": {
    "heading_collapsed": true
   },
   "source": [
    "## Packages"
   ]
  },
  {
   "cell_type": "code",
   "execution_count": 17,
   "metadata": {
    "hidden": true
   },
   "outputs": [],
   "source": [
    "from sklearn.naive_bayes import GaussianNB, BernoulliNB\n",
    "from sklearn.metrics import accuracy_score, classification_report\n",
    "from sklearn.ensemble import BaggingClassifier\n",
    "from sklearn.neighbors import KNeighborsClassifier\n",
    "from sklearn.linear_model import SGDClassifier\n",
    "from sklearn.model_selection import train_test_split\n",
    "import torch\n",
    "#from sklearn.neural_network import MLPClassifier\n",
    "from sklearn import svm\n",
    "from sklearn import tree\n",
    "import pandas as pd\n",
    "from sklearn.externals import joblib\n",
    "import pickle\n",
    "import numpy as np\n",
    "import seaborn as sns\n",
    "#from joblib import dump, load"
   ]
  },
  {
   "cell_type": "code",
   "execution_count": 11,
   "metadata": {
    "hidden": true
   },
   "outputs": [
    {
     "name": "stdout",
     "output_type": "stream",
     "text": [
      "<class 'pandas.core.frame.DataFrame'>\n",
      "RangeIndex: 398 entries, 0 to 397\n",
      "Columns: 331 entries, android to type\n",
      "dtypes: int64(331)\n",
      "memory usage: 1.0 MB\n"
     ]
    }
   ],
   "source": [
    "df = pd.read_csv('../../datasets/android_permissions.csv', header=0, sep=';')\n",
    "df.info()"
   ]
  },
  {
   "cell_type": "code",
   "execution_count": 12,
   "metadata": {
    "hidden": true
   },
   "outputs": [],
   "source": [
    "df = df.astype(int).copy()"
   ]
  },
  {
   "cell_type": "code",
   "execution_count": 30,
   "metadata": {
    "hidden": true
   },
   "outputs": [
    {
     "data": {
      "text/plain": [
       "1    199\n",
       "0    199\n",
       "Name: type, dtype: int64"
      ]
     },
     "execution_count": 30,
     "metadata": {},
     "output_type": "execute_result"
    }
   ],
   "source": [
    "df.type.value_counts()"
   ]
  },
  {
   "cell_type": "code",
   "execution_count": 62,
   "metadata": {
    "hidden": true
   },
   "outputs": [
    {
     "data": {
      "text/html": [
       "<div>\n",
       "<style scoped>\n",
       "    .dataframe tbody tr th:only-of-type {\n",
       "        vertical-align: middle;\n",
       "    }\n",
       "\n",
       "    .dataframe tbody tr th {\n",
       "        vertical-align: top;\n",
       "    }\n",
       "\n",
       "    .dataframe thead th {\n",
       "        text-align: right;\n",
       "    }\n",
       "</style>\n",
       "<table border=\"1\" class=\"dataframe\">\n",
       "  <thead>\n",
       "    <tr style=\"text-align: right;\">\n",
       "      <th></th>\n",
       "      <th>android</th>\n",
       "      <th>android.app.cts.permission.TEST_GRANTED</th>\n",
       "      <th>android.intent.category.MASTER_CLEAR.permission.C2D_MESSAGE</th>\n",
       "      <th>android.os.cts.permission.TEST_GRANTED</th>\n",
       "      <th>android.permission.ACCESS_ALL_DOWNLOADS</th>\n",
       "      <th>android.permission.ACCESS_ALL_EXTERNAL_STORAGE</th>\n",
       "      <th>android.permission.ACCESS_BLUETOOTH_SHARE</th>\n",
       "      <th>android.permission.ACCESS_CACHE_FILESYSTEM</th>\n",
       "      <th>android.permission.ACCESS_CHECKIN_PROPERTIES</th>\n",
       "      <th>android.permission.ACCESS_COARSE_LOCATION</th>\n",
       "      <th>...</th>\n",
       "      <th>com.android.voicemail.permission.WRITE_VOICEMAIL</th>\n",
       "      <th>com.foo.mypermission</th>\n",
       "      <th>com.foo.mypermission2</th>\n",
       "      <th>org.chromium.chrome.shell.permission.C2D_MESSAGE</th>\n",
       "      <th>org.chromium.chrome.shell.permission.DEBUG</th>\n",
       "      <th>org.chromium.chrome.shell.permission.SANDBOX</th>\n",
       "      <th>org.chromium.chromecast.shell.permission.SANDBOX</th>\n",
       "      <th>org.chromium.content_shell.permission.SANDBOX</th>\n",
       "      <th>test_permission</th>\n",
       "      <th>type</th>\n",
       "    </tr>\n",
       "  </thead>\n",
       "  <tbody>\n",
       "    <tr>\n",
       "      <th>0</th>\n",
       "      <td>0</td>\n",
       "      <td>0</td>\n",
       "      <td>0</td>\n",
       "      <td>0</td>\n",
       "      <td>0</td>\n",
       "      <td>0</td>\n",
       "      <td>0</td>\n",
       "      <td>0</td>\n",
       "      <td>0</td>\n",
       "      <td>0</td>\n",
       "      <td>...</td>\n",
       "      <td>0</td>\n",
       "      <td>0</td>\n",
       "      <td>0</td>\n",
       "      <td>0</td>\n",
       "      <td>0</td>\n",
       "      <td>0</td>\n",
       "      <td>0</td>\n",
       "      <td>0</td>\n",
       "      <td>0</td>\n",
       "      <td>1</td>\n",
       "    </tr>\n",
       "    <tr>\n",
       "      <th>1</th>\n",
       "      <td>0</td>\n",
       "      <td>0</td>\n",
       "      <td>0</td>\n",
       "      <td>0</td>\n",
       "      <td>0</td>\n",
       "      <td>0</td>\n",
       "      <td>0</td>\n",
       "      <td>0</td>\n",
       "      <td>0</td>\n",
       "      <td>0</td>\n",
       "      <td>...</td>\n",
       "      <td>0</td>\n",
       "      <td>0</td>\n",
       "      <td>0</td>\n",
       "      <td>0</td>\n",
       "      <td>0</td>\n",
       "      <td>0</td>\n",
       "      <td>0</td>\n",
       "      <td>0</td>\n",
       "      <td>0</td>\n",
       "      <td>1</td>\n",
       "    </tr>\n",
       "  </tbody>\n",
       "</table>\n",
       "<p>2 rows × 331 columns</p>\n",
       "</div>"
      ],
      "text/plain": [
       "   android  android.app.cts.permission.TEST_GRANTED  \\\n",
       "0        0                                        0   \n",
       "1        0                                        0   \n",
       "\n",
       "   android.intent.category.MASTER_CLEAR.permission.C2D_MESSAGE  \\\n",
       "0                                                  0             \n",
       "1                                                  0             \n",
       "\n",
       "   android.os.cts.permission.TEST_GRANTED  \\\n",
       "0                                       0   \n",
       "1                                       0   \n",
       "\n",
       "   android.permission.ACCESS_ALL_DOWNLOADS  \\\n",
       "0                                        0   \n",
       "1                                        0   \n",
       "\n",
       "   android.permission.ACCESS_ALL_EXTERNAL_STORAGE  \\\n",
       "0                                               0   \n",
       "1                                               0   \n",
       "\n",
       "   android.permission.ACCESS_BLUETOOTH_SHARE  \\\n",
       "0                                          0   \n",
       "1                                          0   \n",
       "\n",
       "   android.permission.ACCESS_CACHE_FILESYSTEM  \\\n",
       "0                                           0   \n",
       "1                                           0   \n",
       "\n",
       "   android.permission.ACCESS_CHECKIN_PROPERTIES  \\\n",
       "0                                             0   \n",
       "1                                             0   \n",
       "\n",
       "   android.permission.ACCESS_COARSE_LOCATION  ...   \\\n",
       "0                                          0  ...    \n",
       "1                                          0  ...    \n",
       "\n",
       "   com.android.voicemail.permission.WRITE_VOICEMAIL  com.foo.mypermission  \\\n",
       "0                                                 0                     0   \n",
       "1                                                 0                     0   \n",
       "\n",
       "   com.foo.mypermission2  org.chromium.chrome.shell.permission.C2D_MESSAGE  \\\n",
       "0                      0                                                 0   \n",
       "1                      0                                                 0   \n",
       "\n",
       "   org.chromium.chrome.shell.permission.DEBUG  \\\n",
       "0                                           0   \n",
       "1                                           0   \n",
       "\n",
       "   org.chromium.chrome.shell.permission.SANDBOX  \\\n",
       "0                                             0   \n",
       "1                                             0   \n",
       "\n",
       "   org.chromium.chromecast.shell.permission.SANDBOX  \\\n",
       "0                                                 0   \n",
       "1                                                 0   \n",
       "\n",
       "   org.chromium.content_shell.permission.SANDBOX  test_permission  type  \n",
       "0                                              0                0     1  \n",
       "1                                              0                0     1  \n",
       "\n",
       "[2 rows x 331 columns]"
      ]
     },
     "execution_count": 62,
     "metadata": {},
     "output_type": "execute_result"
    }
   ],
   "source": [
    "df.head(2)"
   ]
  },
  {
   "cell_type": "markdown",
   "metadata": {},
   "source": [
    "## Data Analysis"
   ]
  },
  {
   "cell_type": "markdown",
   "metadata": {
    "heading_collapsed": true
   },
   "source": [
    "### Static Analysis Approach"
   ]
  },
  {
   "cell_type": "markdown",
   "metadata": {
    "hidden": true
   },
   "source": [
    "Let's get the top 10 of permissions that are used for malware"
   ]
  },
  {
   "cell_type": "code",
   "execution_count": 17,
   "metadata": {
    "hidden": true
   },
   "outputs": [
    {
     "name": "stdout",
     "output_type": "stream",
     "text": [
      "<class 'pandas.core.frame.DataFrame'>\n",
      "Int64Index: 199 entries, 0 to 198\n",
      "Columns: 331 entries, android to type\n",
      "dtypes: int32(331)\n",
      "memory usage: 258.9 KB\n"
     ]
    }
   ],
   "source": [
    "df[df.type==1].info()"
   ]
  },
  {
   "cell_type": "markdown",
   "metadata": {
    "hidden": true
   },
   "source": [
    "*Malicious*"
   ]
  },
  {
   "cell_type": "code",
   "execution_count": 15,
   "metadata": {
    "hidden": true
   },
   "outputs": [
    {
     "data": {
      "text/plain": [
       "android.permission.INTERNET                  195\n",
       "android.permission.READ_PHONE_STATE          190\n",
       "android.permission.ACCESS_NETWORK_STATE      167\n",
       "android.permission.WRITE_EXTERNAL_STORAGE    136\n",
       "android.permission.ACCESS_WIFI_STATE         135\n",
       "android.permission.READ_SMS                  124\n",
       "android.permission.WRITE_SMS                 104\n",
       "android.permission.RECEIVE_BOOT_COMPLETED    102\n",
       "android.permission.ACCESS_COARSE_LOCATION     80\n",
       "android.permission.CHANGE_WIFI_STATE          75\n",
       "dtype: int64"
      ]
     },
     "execution_count": 15,
     "metadata": {},
     "output_type": "execute_result"
    }
   ],
   "source": [
    "pd.Series.sort_values(df[df.type==1].sum(axis=0), ascending=False)[1:11]"
   ]
  },
  {
   "cell_type": "code",
   "execution_count": 29,
   "metadata": {
    "hidden": true
   },
   "outputs": [
    {
     "data": {
      "text/plain": [
       "<matplotlib.axes._subplots.AxesSubplot at 0x20f05a1ad68>"
      ]
     },
     "execution_count": 29,
     "metadata": {},
     "output_type": "execute_result"
    },
    {
     "data": {
      "image/png": "[encoded data removed]",
      "text/plain": [
       "<Figure size 432x288 with 1 Axes>"
      ]
     },
     "metadata": {
      "needs_background": "light"
     },
     "output_type": "display_data"
    }
   ],
   "source": [
    "pd.Series.sort_values(df[df.type==1].sum(axis=0), ascending=False)[1:11].plot.bar(color=\"red\")"
   ]
  },
  {
   "cell_type": "markdown",
   "metadata": {
    "hidden": true
   },
   "source": [
    "*Benign*"
   ]
  },
  {
   "cell_type": "code",
   "execution_count": 32,
   "metadata": {
    "hidden": true
   },
   "outputs": [
    {
     "data": {
      "text/plain": [
       "android.permission.INTERNET                  104\n",
       "android.permission.WRITE_EXTERNAL_STORAGE     76\n",
       "android.permission.ACCESS_NETWORK_STATE       62\n",
       "android.permission.WAKE_LOCK                  36\n",
       "android.permission.RECEIVE_BOOT_COMPLETED     30\n",
       "android.permission.ACCESS_WIFI_STATE          29\n",
       "android.permission.READ_PHONE_STATE           24\n",
       "android.permission.VIBRATE                    21\n",
       "android.permission.ACCESS_FINE_LOCATION       18\n",
       "android.permission.READ_EXTERNAL_STORAGE      15\n",
       "dtype: int64"
      ]
     },
     "execution_count": 32,
     "metadata": {},
     "output_type": "execute_result"
    }
   ],
   "source": [
    "pd.Series.sort_values(df[df.type==0].sum(axis=0), ascending=False)[:10]"
   ]
  },
  {
   "cell_type": "code",
   "execution_count": 31,
   "metadata": {
    "hidden": true
   },
   "outputs": [
    {
     "data": {
      "text/plain": [
       "<matplotlib.axes._subplots.AxesSubplot at 0x20f06b0b048>"
      ]
     },
     "execution_count": 31,
     "metadata": {},
     "output_type": "execute_result"
    },
    {
     "data": {
      "image/png": "[encoded data removed]",
      "text/plain": [
       "<Figure size 432x288 with 1 Axes>"
      ]
     },
     "metadata": {
      "needs_background": "light"
     },
     "output_type": "display_data"
    }
   ],
   "source": [
    "pd.Series.sort_values(df[df.type==0].sum(axis=0), ascending=False)[:10].plot.bar()"
   ]
  },
  {
   "cell_type": "markdown",
   "metadata": {
    "hidden": true
   },
   "source": [
    "#### Machine Learning Modeling"
   ]
  },
  {
   "cell_type": "code",
   "execution_count": 4,
   "metadata": {
    "hidden": true
   },
   "outputs": [],
   "source": [
    "X_train, X_test, y_train, y_test = train_test_split(df.iloc[:, 1:330], df['type'], test_size=0.20, random_state=42)"
   ]
  },
  {
   "cell_type": "code",
   "execution_count": 5,
   "metadata": {
    "hidden": true
   },
   "outputs": [
    {
     "name": "stdout",
     "output_type": "stream",
     "text": [
      "<class 'pandas.core.frame.DataFrame'>\n",
      "Int64Index: 318 entries, 3 to 102\n",
      "Data columns (total 329 columns):\n",
      "android.app.cts.permission.TEST_GRANTED                          int32\n",
      "android.intent.category.MASTER_CLEAR.permission.C2D_MESSAGE      int32\n",
      "android.os.cts.permission.TEST_GRANTED                           int32\n",
      "android.permission.ACCESS_ALL_DOWNLOADS                          int32\n",
      "android.permission.ACCESS_ALL_EXTERNAL_STORAGE                   int32\n",
      "android.permission.ACCESS_BLUETOOTH_SHARE                        int32\n",
      "android.permission.ACCESS_CACHE_FILESYSTEM                       int32\n",
      "android.permission.ACCESS_CHECKIN_PROPERTIES                     int32\n",
      "android.permission.ACCESS_COARSE_LOCATION                        int32\n",
      "android.permission.ACCESS_CONTENT_PROVIDERS_EXTERNALLY           int32\n",
      "android.permission.ACCESS_DOWNLOAD_MANAGER                       int32\n",
      "android.permission.ACCESS_DOWNLOAD_MANAGER_ADVANCED              int32\n",
      "android.permission.ACCESS_DRM_CERTIFICATES                       int32\n",
      "android.permission.ACCESS_FINE_LOCATION                          int32\n",
      "android.permission.ACCESS_FM_RADIO                               int32\n",
      "android.permission.ACCESS_INPUT_FLINGER                          int32\n",
      "android.permission.ACCESS_KEYGUARD_SECURE_STORAGE                int32\n",
      "android.permission.ACCESS_LOCATION_EXTRA_COMMANDS                int32\n",
      "android.permission.ACCESS_MOCK_LOCATION                          int32\n",
      "android.permission.ACCESS_MTP                                    int32\n",
      "android.permission.ACCESS_NETWORK_CONDITIONS                     int32\n",
      "android.permission.ACCESS_NETWORK_STATE                          int32\n",
      "android.permission.ACCESS_NOTIFICATIONS                          int32\n",
      "android.permission.ACCESS_PDB_STATE                              int32\n",
      "android.permission.ACCESS_SURFACE_FLINGER                        int32\n",
      "android.permission.ACCESS_WIFI_STATE                             int32\n",
      "android.permission.ACCESS_WIMAX_STATE                            int32\n",
      "android.permission.ACCOUNT_MANAGER                               int32\n",
      "android.permission.ALLOW_ANY_CODEC_FOR_PLAYBACK                  int32\n",
      "android.permission.ASEC_ACCESS                                   int32\n",
      "android.permission.ASEC_CREATE                                   int32\n",
      "android.permission.ASEC_DESTROY                                  int32\n",
      "android.permission.ASEC_MOUNT_UNMOUNT                            int32\n",
      "android.permission.ASEC_RENAME                                   int32\n",
      "android.permission.AUTHENTICATE_ACCOUNTS                         int32\n",
      "android.permission.BACKUP                                        int32\n",
      "android.permission.BATTERY_STATS                                 int32\n",
      "android.permission.BIND_ACCESSIBILITY_SERVICE                    int32\n",
      "android.permission.BIND_APPWIDGET                                int32\n",
      "android.permission.BIND_CARRIER_MESSAGING_SERVICE                int32\n",
      "android.permission.BIND_CONDITION_PROVIDER_SERVICE               int32\n",
      "android.permission.BIND_CONNECTION_SERVICE                       int32\n",
      "android.permission.BIND_DEVICE_ADMIN                             int32\n",
      "android.permission.BIND_DIRECTORY_SEARCH                         int32\n",
      "android.permission.BIND_DREAM_SERVICE                            int32\n",
      "android.permission.BIND_INCALL_SERVICE                           int32\n",
      "android.permission.BIND_INPUT_METHOD                             int32\n",
      "android.permission.BIND_JOB_SERVICE                              int32\n",
      "android.permission.BIND_KEYGUARD_APPWIDGET                       int32\n",
      "android.permission.BIND_NFC_SERVICE                              int32\n",
      "android.permission.BIND_NOTIFICATION_LISTENER_SERVICE            int32\n",
      "android.permission.BIND_PACKAGE_VERIFIER                         int32\n",
      "android.permission.BIND_PRINT_SERVICE                            int32\n",
      "android.permission.BIND_PRINT_SPOOLER_SERVICE                    int32\n",
      "android.permission.BIND_REMOTEVIEWS                              int32\n",
      "android.permission.BIND_REMOTE_DISPLAY                           int32\n",
      "android.permission.BIND_TEXT_SERVICE                             int32\n",
      "android.permission.BIND_TRUST_AGENT                              int32\n",
      "android.permission.BIND_TV_INPUT                                 int32\n",
      "android.permission.BIND_VOICE_INTERACTION                        int32\n",
      "android.permission.BIND_VPN_SERVICE                              int32\n",
      "android.permission.BIND_WALLPAPER                                int32\n",
      "android.permission.BLUETOOTH                                     int32\n",
      "android.permission.BLUETOOTH_ADMIN                               int32\n",
      "android.permission.BLUETOOTH_MAP                                 int32\n",
      "android.permission.BLUETOOTH_PRIVILEGED                          int32\n",
      "android.permission.BLUETOOTH_STACK                               int32\n",
      "android.permission.BODY_SENSORS                                  int32\n",
      "android.permission.BRICK                                         int32\n",
      "android.permission.BROADCAST_CALLLOG_INFO                        int32\n",
      "android.permission.BROADCAST_NETWORK_PRIVILEGED                  int32\n",
      "android.permission.BROADCAST_PACKAGE_REMOVED                     int32\n",
      "android.permission.BROADCAST_SMS                                 int32\n",
      "android.permission.BROADCAST_STICKY                              int32\n",
      "android.permission.BROADCAST_WAP_PUSH                            int32\n",
      "android.permission.CALL_PHONE                                    int32\n",
      "android.permission.CALL_PRIVILEGED                               int32\n",
      "android.permission.CAMERA                                        int32\n",
      "android.permission.CAMERA_DISABLE_TRANSMIT_LED                   int32\n",
      "android.permission.CAPTURE_AUDIO_HOTWORD                         int32\n",
      "android.permission.CAPTURE_AUDIO_OUTPUT                          int32\n",
      "android.permission.CAPTURE_SECURE_VIDEO_OUTPUT                   int32\n",
      "android.permission.CAPTURE_TV_INPUT                              int32\n",
      "android.permission.CAPTURE_VIDEO_OUTPUT                          int32\n",
      "android.permission.CARRIER_FILTER_SMS                            int32\n",
      "android.permission.CHANGE_BACKGROUND_DATA_SETTING                int32\n",
      "android.permission.CHANGE_COMPONENT_ENABLED_STATE                int32\n",
      "android.permission.CHANGE_CONFIGURATION                          int32\n",
      "android.permission.CHANGE_NETWORK_STATE                          int32\n",
      "android.permission.CHANGE_WIFI_MULTICAST_STATE                   int32\n",
      "android.permission.CHANGE_WIFI_STATE                             int32\n",
      "android.permission.CHANGE_WIMAX_STATE                            int32\n",
      "android.permission.CLEAR_APP_CACHE                               int32\n",
      "android.permission.CLEAR_APP_USER_DATA                           int32\n",
      "android.permission.CONFIGURE_WIFI_DISPLAY                        int32\n",
      "android.permission.CONFIRM_FULL_BACKUP                           int32\n",
      "android.permission.CONNECTIVITY_INTERNAL                         int32\n",
      "android.permission.CONTROL_INCALL_EXPERIENCE                     int32\n",
      "android.permission.CONTROL_KEYGUARD                              int32\n",
      "android.permission.CONTROL_LOCATION_UPDATES                      int32\n",
      "android.permission.CONTROL_VPN                                   int32\n",
      "android.permission.CONTROL_WIFI_DISPLAY                          int32\n",
      "android.permission.COPY_PROTECTED_DATA                           int32\n",
      "android.permission.CRYPT_KEEPER                                  int32\n",
      "android.permission.DELETE_CACHE_FILES                            int32\n",
      "android.permission.DELETE_PACKAGES                               int32\n",
      "android.permission.DEVICE_POWER                                  int32\n",
      "android.permission.DIAGNOSTIC                                    int32\n",
      "android.permission.DISABLE_KEYGUARD                              int32\n",
      "android.permission.DOWNLOAD_CACHE_NON_PURGEABLE                  int32\n",
      "android.permission.DOWNLOAD_WITHOUT_NOTIFICATION                 int32\n",
      "android.permission.DUMP                                          int32\n",
      "android.permission.EXPAND_STATUS_BAR                             int32\n",
      "android.permission.FACTORY_TEST                                  int32\n",
      "android.permission.FILTER_EVENTS                                 int32\n",
      "android.permission.FLASHLIGHT                                    int32\n",
      "android.permission.FORCE_BACK                                    int32\n",
      "android.permission.FORCE_STOP_PACKAGES                           int32\n",
      "android.permission.FRAME_STATS                                   int32\n",
      "android.permission.FREEZE_SCREEN                                 int32\n",
      "android.permission.GET_ACCOUNTS                                  int32\n",
      "android.permission.GET_APP_OPS_STATS                             int32\n",
      "android.permission.GET_DETAILED_TASKS                            int32\n",
      "android.permission.GET_PACKAGE_SIZE                              int32\n",
      "android.permission.GET_TASKS                                     int32\n",
      "android.permission.GET_TOP_ACTIVITY_INFO                         int32\n",
      "android.permission.GLOBAL_SEARCH                                 int32\n",
      "android.permission.GLOBAL_SEARCH_CONTROL                         int32\n",
      "android.permission.GRANT_REVOKE_PERMISSIONS                      int32\n",
      "android.permission.HARDWARE_TEST                                 int32\n",
      "android.permission.HDMI_CEC                                      int32\n",
      "android.permission.INJECT_EVENTS                                 int32\n",
      "android.permission.INSTALL_LOCATION_PROVIDER                     int32\n",
      "android.permission.INSTALL_PACKAGES                              int32\n",
      "android.permission.INTERACT_ACROSS_USERS                         int32\n",
      "android.permission.INTERACT_ACROSS_USERS_FULL                    int32\n",
      "android.permission.INTERNAL_SYSTEM_WINDOW                        int32\n",
      "android.permission.INTERNET                                      int32\n",
      "android.permission.INVOKE_CARRIER_SETUP                          int32\n",
      "android.permission.KILL_BACKGROUND_PROCESSES                     int32\n",
      "android.permission.LAUNCH_TRUST_AGENT_SETTINGS                   int32\n",
      "android.permission.LOCATION_HARDWARE                             int32\n",
      "android.permission.LOOP_RADIO                                    int32\n",
      "android.permission.MANAGE_ACCOUNTS                               int32\n",
      "android.permission.MANAGE_ACTIVITY_STACKS                        int32\n",
      "android.permission.MANAGE_APP_TOKENS                             int32\n",
      "android.permission.MANAGE_CA_CERTIFICATES                        int32\n",
      "android.permission.MANAGE_DEVICE_ADMINS                          int32\n",
      "android.permission.MANAGE_DOCUMENTS                              int32\n",
      "android.permission.MANAGE_MEDIA_PROJECTION                       int32\n",
      "android.permission.MANAGE_NETWORK_POLICY                         int32\n",
      "android.permission.MANAGE_USB                                    int32\n",
      "android.permission.MANAGE_USERS                                  int32\n",
      "android.permission.MANAGE_VOICE_KEYPHRASES                       int32\n",
      "android.permission.MASTER_CLEAR                                  int32\n",
      "android.permission.MEDIA_CONTENT_CONTROL                         int32\n",
      "android.permission.MMS_SEND_OUTBOX_MSG                           int32\n",
      "android.permission.MODIFY_APPWIDGET_BIND_PERMISSIONS             int32\n",
      "android.permission.MODIFY_AUDIO_ROUTING                          int32\n",
      "android.permission.MODIFY_AUDIO_SETTINGS                         int32\n",
      "android.permission.MODIFY_NETWORK_ACCOUNTING                     int32\n",
      "android.permission.MODIFY_PARENTAL_CONTROLS                      int32\n",
      "android.permission.MODIFY_PHONE_STATE                            int32\n",
      "android.permission.MOUNT_FORMAT_FILESYSTEMS                      int32\n",
      "android.permission.MOUNT_UNMOUNT_FILESYSTEMS                     int32\n",
      "android.permission.MOVE_PACKAGE                                  int32\n",
      "android.permission.NET_ADMIN                                     int32\n",
      "android.permission.NET_TUNNELING                                 int32\n",
      "android.permission.NFC                                           int32\n",
      "android.permission.NFC_HANDOVER_STATUS                           int32\n",
      "android.permission.OEM_UNLOCK_STATE                              int32\n",
      "android.permission.PACKAGE_USAGE_STATS                           int32\n",
      "android.permission.PACKAGE_VERIFICATION_AGENT                    int32\n",
      "android.permission.PERFORM_CDMA_PROVISIONING                     int32\n",
      "android.permission.PERSISTENT_ACTIVITY                           int32\n",
      "android.permission.PROCESS_CALLLOG_INFO                          int32\n",
      "android.permission.PROCESS_OUTGOING_CALLS                        int32\n",
      "android.permission.PROVIDE_TRUST_AGENT                           int32\n",
      "android.permission.READ_CALENDAR                                 int32\n",
      "android.permission.READ_CALL_LOG                                 int32\n",
      "android.permission.READ_CELL_BROADCASTS                          int32\n",
      "android.permission.READ_CONTACTS                                 int32\n",
      "android.permission.READ_DREAM_STATE                              int32\n",
      "android.permission.READ_EXTERNAL_STORAGE                         int32\n",
      "android.permission.READ_FRAME_BUFFER                             int32\n",
      "android.permission.READ_INPUT_STATE                              int32\n",
      "android.permission.READ_INSTALL_SESSIONS                         int32\n",
      "android.permission.READ_LOGS                                     int32\n",
      "android.permission.READ_NETWORK_USAGE_HISTORY                    int32\n",
      "android.permission.READ_PHONE_STATE                              int32\n",
      "android.permission.READ_PRECISE_PHONE_STATE                      int32\n",
      "android.permission.READ_PRIVILEGED_PHONE_STATE                   int32\n",
      "android.permission.READ_PROFILE                                  int32\n",
      "android.permission.READ_SEARCH_INDEXABLES                        int32\n",
      "android.permission.READ_SMS                                      int32\n",
      "android.permission.READ_SOCIAL_STREAM                            int32\n",
      "android.permission.READ_SYNC_SETTINGS                            int32\n",
      "android.permission.READ_SYNC_STATS                               int32\n",
      "android.permission.READ_USER_DICTIONARY                          int32\n",
      "android.permission.READ_WIFI_CREDENTIAL                          int32\n",
      "android.permission.REAL_GET_TASKS                                int32\n",
      "android.permission.REBOOT                                        int32\n",
      "android.permission.RECEIVE_BLUETOOTH_MAP                         int32\n",
      "android.permission.RECEIVE_BOOT_COMPLETED                        int32\n",
      "android.permission.RECEIVE_DATA_ACTIVITY_CHANGE                  int32\n",
      "android.permission.RECEIVE_EMERGENCY_BROADCAST                   int32\n",
      "android.permission.RECEIVE_MMS                                   int32\n",
      "android.permission.RECEIVE_SMS                                   int32\n",
      "android.permission.RECEIVE_WAP_PUSH                              int32\n",
      "android.permission.RECORD_AUDIO                                  int32\n",
      "android.permission.RECOVERY                                      int32\n",
      "android.permission.REGISTER_CALL_PROVIDER                        int32\n",
      "android.permission.REGISTER_CONNECTION_MANAGER                   int32\n",
      "android.permission.REGISTER_SIM_SUBSCRIPTION                     int32\n",
      "android.permission.REMOTE_AUDIO_PLAYBACK                         int32\n",
      "android.permission.REMOVE_DRM_CERTIFICATES                       int32\n",
      "android.permission.REMOVE_TASKS                                  int32\n",
      "android.permission.REORDER_TASKS                                 int32\n",
      "android.permission.RESTART_PACKAGES                              int32\n",
      "android.permission.RETRIEVE_WINDOW_CONTENT                       int32\n",
      "android.permission.RETRIEVE_WINDOW_TOKEN                         int32\n",
      "android.permission.SCORE_NETWORKS                                int32\n",
      "android.permission.SEND_DOWNLOAD_COMPLETED_INTENTS               int32\n",
      "android.permission.SEND_RESPOND_VIA_MESSAGE                      int32\n",
      "android.permission.SEND_SMS                                      int32\n",
      "android.permission.SERIAL_PORT                                   int32\n",
      "android.permission.SET_ACTIVITY_WATCHER                          int32\n",
      "android.permission.SET_ALWAYS_FINISH                             int32\n",
      "android.permission.SET_ANIMATION_SCALE                           int32\n",
      "android.permission.SET_DEBUG_APP                                 int32\n",
      "android.permission.SET_INPUT_CALIBRATION                         int32\n",
      "android.permission.SET_KEYBOARD_LAYOUT                           int32\n",
      "android.permission.SET_ORIENTATION                               int32\n",
      "android.permission.SET_POINTER_SPEED                             int32\n",
      "android.permission.SET_PREFERRED_APPLICATIONS                    int32\n",
      "android.permission.SET_PROCESS_LIMIT                             int32\n",
      "android.permission.SET_SCREEN_COMPATIBILITY                      int32\n",
      "android.permission.SET_TIME                                      int32\n",
      "android.permission.SET_TIME_ZONE                                 int32\n",
      "android.permission.SET_WALLPAPER                                 int32\n",
      "android.permission.SET_WALLPAPER_COMPONENT                       int32\n",
      "android.permission.SET_WALLPAPER_HINTS                           int32\n",
      "android.permission.SHUTDOWN                                      int32\n",
      "android.permission.SIGNAL_PERSISTENT_PROCESSES                   int32\n",
      "android.permission.START_ANY_ACTIVITY                            int32\n",
      "android.permission.START_PRINT_SERVICE_CONFIG_ACTIVITY           int32\n",
      "android.permission.START_TASKS_FROM_RECENTS                      int32\n",
      "android.permission.STATUS_BAR                                    int32\n",
      "android.permission.STATUS_BAR_SERVICE                            int32\n",
      "android.permission.STOP_APP_SWITCHES                             int32\n",
      "android.permission.SUBSCRIBED_FEEDS_READ                         int32\n",
      "android.permission.SUBSCRIBED_FEEDS_WRITE                        int32\n",
      "android.permission.SYSTEM_ALERT_WINDOW                           int32\n",
      "android.permission.TEMPORARY_ENABLE_ACCESSIBILITY                int32\n",
      "android.permission.TRANSMIT_IR                                   int32\n",
      "android.permission.TRUST_LISTENER                                int32\n",
      "android.permission.TV_INPUT_HARDWARE                             int32\n",
      "android.permission.UPDATE_APP_OPS_STATS                          int32\n",
      "android.permission.UPDATE_DEVICE_STATS                           int32\n",
      "android.permission.UPDATE_LOCK                                   int32\n",
      "android.permission.USER_ACTIVITY                                 int32\n",
      "android.permission.USE_CREDENTIALS                               int32\n",
      "android.permission.USE_SIP                                       int32\n",
      "android.permission.VIBRATE                                       int32\n",
      "android.permission.WAKE_LOCK                                     int32\n",
      "android.permission.WRITE_APN_SETTINGS                            int32\n",
      "android.permission.WRITE_CALENDAR                                int32\n",
      "android.permission.WRITE_CALL_LOG                                int32\n",
      "android.permission.WRITE_CONTACTS                                int32\n",
      "android.permission.WRITE_DREAM_STATE                             int32\n",
      "android.permission.WRITE_EXTERNAL_STORAGE                        int32\n",
      "android.permission.WRITE_GSERVICES                               int32\n",
      "android.permission.WRITE_MEDIA_STORAGE                           int32\n",
      "android.permission.WRITE_PROFILE                                 int32\n",
      "android.permission.WRITE_SECURE_SETTINGS                         int32\n",
      "android.permission.WRITE_SETTINGS                                int32\n",
      "android.permission.WRITE_SMS                                     int32\n",
      "android.permission.WRITE_SOCIAL_STREAM                           int32\n",
      "android.permission.WRITE_SYNC_SETTINGS                           int32\n",
      "android.permission.WRITE_USER_DICTIONARY                         int32\n",
      "com.android.alarm.permission.SET_ALARM                           int32\n",
      "com.android.browser.permission.PRELOAD                           int32\n",
      "com.android.browser.permission.READ_HISTORY_BOOKMARKS            int32\n",
      "com.android.browser.permission.WRITE_HISTORY_BOOKMARKS           int32\n",
      "com.android.certinstaller.INSTALL_AS_USER                        int32\n",
      "com.android.cts.intent.sender.permission.SAMPLE                  int32\n",
      "com.android.cts.keysets_permdef.keysets_perm                     int32\n",
      "com.android.cts.permissionAllowedWithSignature                   int32\n",
      "com.android.cts.permissionNormal                                 int32\n",
      "com.android.cts.permissionNotUsedWithSignature                   int32\n",
      "com.android.cts.permissionWithSignature                          int32\n",
      "com.android.email.permission.ACCESS_PROVIDER                     int32\n",
      "com.android.email.permission.READ_ATTACHMENT                     int32\n",
      "com.android.frameworks.coretests.DANGEROUS                       int32\n",
      "com.android.frameworks.coretests.NORMAL                          int32\n",
      "com.android.frameworks.coretests.SIGNATURE                       int32\n",
      "com.android.frameworks.coretests.keysets_permdef.keyset_perm     int32\n",
      "com.android.frameworks.coretests.permission.TEST_DENIED          int32\n",
      "com.android.frameworks.coretests.permission.TEST_GRANTED         int32\n",
      "com.android.gallery3d.filtershow.permission.READ                 int32\n",
      "com.android.gallery3d.filtershow.permission.WRITE                int32\n",
      "com.android.gallery3d.permission.GALLERY_PROVIDER                int32\n",
      "com.android.launcher.permission.INSTALL_SHORTCUT                 int32\n",
      "com.android.launcher.permission.PRELOAD_WORKSPACE                int32\n",
      "com.android.launcher.permission.READ_SETTINGS                    int32\n",
      "com.android.launcher.permission.UNINSTALL_SHORTCUT               int32\n",
      "com.android.launcher.permission.WRITE_SETTINGS                   int32\n",
      "com.android.launcher3.permission.READ_SETTINGS                   int32\n",
      "com.android.launcher3.permission.RECEIVE_FIRST_LOAD_BROADCAST    int32\n",
      "com.android.launcher3.permission.RECEIVE_LAUNCH_BROADCASTS       int32\n",
      "com.android.launcher3.permission.WRITE_SETTINGS                  int32\n",
      "com.android.permission.WHITELIST_BLUETOOTH_DEVICE                int32\n",
      "com.android.printspooler.permission.ACCESS_ALL_PRINT_JOBS        int32\n",
      "com.android.providers.tv.permission.ACCESS_ALL_EPG_DATA          int32\n",
      "com.android.providers.tv.permission.ACCESS_WATCHED_PROGRAMS      int32\n",
      "com.android.providers.tv.permission.READ_EPG_DATA                int32\n",
      "com.android.providers.tv.permission.WRITE_EPG_DATA               int32\n",
      "com.android.smspush.WAPPUSH_MANAGER_BIND                         int32\n",
      "com.android.voicemail.permission.ADD_VOICEMAIL                   int32\n",
      "com.android.voicemail.permission.READ_VOICEMAIL                  int32\n",
      "com.android.voicemail.permission.WRITE_VOICEMAIL                 int32\n",
      "com.foo.mypermission                                             int32\n",
      "com.foo.mypermission2                                            int32\n",
      "org.chromium.chrome.shell.permission.C2D_MESSAGE                 int32\n",
      "org.chromium.chrome.shell.permission.DEBUG                       int32\n",
      "org.chromium.chrome.shell.permission.SANDBOX                     int32\n",
      "org.chromium.chromecast.shell.permission.SANDBOX                 int32\n",
      "org.chromium.content_shell.permission.SANDBOX                    int32\n",
      "test_permission                                                  int32\n",
      "dtypes: int32(329)\n",
      "memory usage: 411.2 KB\n"
     ]
    }
   ],
   "source": [
    "X_train.info(5)"
   ]
  },
  {
   "cell_type": "markdown",
   "metadata": {
    "hidden": true
   },
   "source": [
    "##### Naive Bayes algorithm"
   ]
  },
  {
   "cell_type": "code",
   "execution_count": 64,
   "metadata": {
    "hidden": true
   },
   "outputs": [
    {
     "name": "stdout",
     "output_type": "stream",
     "text": [
      "naive_bayes\n",
      "0.8375\n",
      "             precision    recall  f1-score   support\n",
      "\n",
      "          0       0.91      0.76      0.83        41\n",
      "          1       0.78      0.92      0.85        39\n",
      "\n",
      "avg / total       0.85      0.84      0.84        80\n",
      "\n"
     ]
    }
   ],
   "source": [
    "# Naive Bayes algorithm\n",
    "gnb = GaussianNB()\n",
    "gnb.fit(X_train, y_train)\n",
    "\n",
    "# pred\n",
    "pred = gnb.predict(X_test)\n",
    "\n",
    "# accuracy\n",
    "accuracy = accuracy_score(pred, y_test)\n",
    "print(\"naive_bayes\")\n",
    "print(accuracy)\n",
    "print(classification_report(pred, y_test, labels=None))\n"
   ]
  },
  {
   "cell_type": "markdown",
   "metadata": {
    "hidden": true
   },
   "source": [
    "##### KNeighborsClassifier"
   ]
  },
  {
   "cell_type": "code",
   "execution_count": 65,
   "metadata": {
    "hidden": true
   },
   "outputs": [
    {
     "name": "stdout",
     "output_type": "stream",
     "text": [
      "kneighbors 2\n",
      "0.9\n",
      "             precision    recall  f1-score   support\n",
      "\n",
      "          0       0.97      0.82      0.89        40\n",
      "          1       0.85      0.97      0.91        40\n",
      "\n",
      "avg / total       0.91      0.90      0.90        80\n",
      "\n",
      "\n",
      "kneighbors 3\n",
      "0.8875\n",
      "             precision    recall  f1-score   support\n",
      "\n",
      "          0       0.94      0.82      0.88        39\n",
      "          1       0.85      0.95      0.90        41\n",
      "\n",
      "avg / total       0.89      0.89      0.89        80\n",
      "\n",
      "\n",
      "kneighbors 4\n",
      "0.85\n",
      "             precision    recall  f1-score   support\n",
      "\n",
      "          0       0.94      0.76      0.84        42\n",
      "          1       0.78      0.95      0.86        38\n",
      "\n",
      "avg / total       0.87      0.85      0.85        80\n",
      "\n",
      "kneighbors 6\n",
      "0.85\n",
      "             precision    recall  f1-score   support\n",
      "\n",
      "          0       0.94      0.76      0.84        42\n",
      "          1       0.78      0.95      0.86        38\n",
      "\n",
      "avg / total       0.87      0.85      0.85        80\n",
      "\n"
     ]
    }
   ],
   "source": [
    "# kneighbors algorithm\n",
    "neigh = KNeighborsClassifier(n_neighbors=2)\n",
    "neigh_two = KNeighborsClassifier(n_neighbors=3)\n",
    "neigh_three = KNeighborsClassifier(n_neighbors=4)\n",
    "neigh_four = KNeighborsClassifier(n_neighbors=6)\n",
    "\n",
    "neigh.fit(X_train, y_train)\n",
    "neigh_two.fit(X_train, y_train)\n",
    "neigh_three.fit(X_train, y_train)\n",
    "neigh_four.fit(X_train, y_train)\n",
    "\n",
    "pred = neigh.predict(X_test)\n",
    "pred_two = neigh_two.predict(X_test)\n",
    "pred_three = neigh_three.predict(X_test)\n",
    "pred_four = neigh_four.predict(X_test)\n",
    "# accuracy\n",
    "accuracy = accuracy_score(pred, y_test)\n",
    "accuracy_two = accuracy_score(pred_two, y_test)\n",
    "accuracy_three = accuracy_score(pred_three, y_test)\n",
    "accuracy_four = accuracy_score(pred_four, y_test)\n",
    "\n",
    "print(\"kneighbors 2\")\n",
    "print(accuracy)\n",
    "print(classification_report(pred, y_test, labels=None))\n",
    "print(\"\")\n",
    "print(\"kneighbors 3\")\n",
    "print(accuracy_two)\n",
    "print(classification_report(pred_two, y_test, labels=None))\n",
    "print(\"\")\n",
    "print(\"kneighbors 4\")\n",
    "print(accuracy_three)\n",
    "print(classification_report(pred_three, y_test, labels=None))\n",
    "print(\"kneighbors 6\")\n",
    "print(accuracy_four)\n",
    "print(classification_report(pred_four, y_test, labels=None))\n"
   ]
  },
  {
   "cell_type": "markdown",
   "metadata": {
    "hidden": true
   },
   "source": [
    "##### Decision Tree"
   ]
  },
  {
   "cell_type": "code",
   "execution_count": 5,
   "metadata": {
    "hidden": true
   },
   "outputs": [
    {
     "name": "stdout",
     "output_type": "stream",
     "text": [
      "DecisionTreeClassifier(class_weight=None, criterion='gini', max_depth=None,\n",
      "            max_features=None, max_leaf_nodes=None,\n",
      "            min_impurity_decrease=0.0, min_impurity_split=None,\n",
      "            min_samples_leaf=1, min_samples_split=2,\n",
      "            min_weight_fraction_leaf=0.0, presort=False, random_state=None,\n",
      "            splitter='best')\n",
      "0.95\n",
      "             precision    recall  f1-score   support\n",
      "\n",
      "          0       0.97      0.92      0.94        36\n",
      "          1       0.93      0.98      0.96        44\n",
      "\n",
      "avg / total       0.95      0.95      0.95        80\n",
      "\n"
     ]
    }
   ],
   "source": [
    "clf = tree.DecisionTreeClassifier()\n",
    "clf.fit(X_train, y_train)\n",
    "\n",
    "# Read the csv test file\n",
    "\n",
    "pred = clf.predict(X_test)\n",
    "# accuracy\n",
    "accuracy = accuracy_score(pred, y_test)\n",
    "print(clf)\n",
    "print(accuracy)\n",
    "print(classification_report(pred, y_test, labels=None))"
   ]
  },
  {
   "cell_type": "code",
   "execution_count": 9,
   "metadata": {
    "hidden": true
   },
   "outputs": [
    {
     "data": {
      "text/plain": [
       "['defense.joblib']"
      ]
     },
     "execution_count": 9,
     "metadata": {},
     "output_type": "execute_result"
    }
   ],
   "source": [
    "#we are going to save the model \n",
    "dump(clf, 'defense.joblib') "
   ]
  },
  {
   "cell_type": "code",
   "execution_count": 10,
   "metadata": {
    "hidden": true
   },
   "outputs": [
    {
     "name": "stdout",
     "output_type": "stream",
     "text": [
      "DecisionTreeClassifier(class_weight=None, criterion='gini', max_depth=None,\n",
      "            max_features=None, max_leaf_nodes=None,\n",
      "            min_impurity_decrease=0.0, min_impurity_split=None,\n",
      "            min_samples_leaf=1, min_samples_split=2,\n",
      "            min_weight_fraction_leaf=0.0, presort=False, random_state=None,\n",
      "            splitter='best')\n",
      "0.95\n",
      "             precision    recall  f1-score   support\n",
      "\n",
      "          0       0.97      0.92      0.94        36\n",
      "          1       0.93      0.98      0.96        44\n",
      "\n",
      "avg / total       0.95      0.95      0.95        80\n",
      "\n"
     ]
    }
   ],
   "source": [
    "# lets load and prove it again\n",
    "clf = load('defense.joblib') \n",
    "pred = clf.predict(X_test)\n",
    "# accuracy\n",
    "accuracy = accuracy_score(pred, y_test)\n",
    "print(clf)\n",
    "print(accuracy)\n",
    "print(classification_report(pred, y_test, labels=None))"
   ]
  },
  {
   "cell_type": "markdown",
   "metadata": {
    "hidden": true
   },
   "source": [
    "#### Neural network\n"
   ]
  },
  {
   "cell_type": "code",
   "execution_count": 6,
   "metadata": {
    "hidden": true
   },
   "outputs": [],
   "source": [
    "cat_to_name = {\"0\": \"benign\", \"1\": \"malware\"}"
   ]
  },
  {
   "cell_type": "code",
   "execution_count": 7,
   "metadata": {
    "hidden": true
   },
   "outputs": [],
   "source": [
    "X_train_tensor = torch.tensor(X_train.values).int()\n",
    "X_test_tensor = torch.tensor(X_test.values).int()\n",
    "y_train_tensor = torch.tensor(y_train.values).int()\n",
    "y_test_tensor = torch.tensor(y_test.values).int()"
   ]
  },
  {
   "cell_type": "code",
   "execution_count": 8,
   "metadata": {
    "hidden": true
   },
   "outputs": [],
   "source": [
    "X_train_tensor = X_train_tensor.reshape(-1, 329)\n",
    "X_test_tensor = X_test_tensor.reshape(-1, 329)\n",
    "y_train_tensor = y_train_tensor.reshape(-1, 1)\n",
    "y_test_tensor = y_test_tensor.reshape(-1, 1)"
   ]
  },
  {
   "cell_type": "code",
   "execution_count": 9,
   "metadata": {
    "hidden": true
   },
   "outputs": [
    {
     "data": {
      "text/plain": [
       "tensor([[0, 0, 0,  ..., 0, 0, 0],\n",
       "        [0, 0, 0,  ..., 0, 0, 0],\n",
       "        [0, 0, 0,  ..., 0, 0, 0],\n",
       "        ...,\n",
       "        [0, 0, 0,  ..., 0, 0, 0],\n",
       "        [0, 0, 0,  ..., 0, 0, 0],\n",
       "        [0, 0, 0,  ..., 0, 0, 0]], dtype=torch.int32)"
      ]
     },
     "execution_count": 9,
     "metadata": {},
     "output_type": "execute_result"
    }
   ],
   "source": [
    "X_train_tensor"
   ]
  },
  {
   "cell_type": "code",
   "execution_count": 10,
   "metadata": {
    "hidden": true
   },
   "outputs": [],
   "source": [
    "from torch import nn\n",
    "import torch.nn.functional as F\n",
    "\n",
    "class Network(nn.Module):\n",
    "    def __init__(self):\n",
    "        super().__init__()\n",
    "        \n",
    "        # Inputs to hidden layer linear transformation\n",
    "        self.fc1 = nn.Linear(329, 128)\n",
    "        self.fc2 = nn.Linear(128, 64)\n",
    "        #self.dout = nn.Dropout(0.2)\n",
    "        # output layer\n",
    "        self.fc3 = nn.Linear(64, 1)\n",
    "        \n",
    "    def forward(self, x):\n",
    "        # Hidden layer with ReLu activation\n",
    "        x = F.relu(self.fc1(x))\n",
    "        x = F.relu(self.fc2(x))\n",
    "        # Output layer with softmax activation        \n",
    "        x = self.fc3(x)\n",
    "        return x"
   ]
  },
  {
   "cell_type": "code",
   "execution_count": 11,
   "metadata": {
    "hidden": true
   },
   "outputs": [
    {
     "data": {
      "text/plain": [
       "Network(\n",
       "  (fc1): Linear(in_features=329, out_features=128, bias=True)\n",
       "  (fc2): Linear(in_features=128, out_features=64, bias=True)\n",
       "  (fc3): Linear(in_features=64, out_features=1, bias=True)\n",
       ")"
      ]
     },
     "execution_count": 11,
     "metadata": {},
     "output_type": "execute_result"
    }
   ],
   "source": [
    "model = Network()\n",
    "model"
   ]
  },
  {
   "cell_type": "code",
   "execution_count": 12,
   "metadata": {
    "hidden": true
   },
   "outputs": [
    {
     "name": "stdout",
     "output_type": "stream",
     "text": [
      "Training loss: 0.016105705145863618\n",
      "Training loss: 0.005543735778872978\n",
      "Training loss: 0.003785331997838832\n",
      "Training loss: 0.0035040460625054234\n",
      "Training loss: 0.002874317849874965\n"
     ]
    }
   ],
   "source": [
    "import torch.optim as optim\n",
    "criterion = nn.MSELoss()\n",
    "optimizer = optim.Adam(model.parameters(), lr=0.003)\n",
    "\n",
    "epochs = 5\n",
    "position = 1\n",
    "batch_size= 10\n",
    "\n",
    "for e in range(epochs):\n",
    "    running_loss = 0\n",
    "    model.train()\n",
    "    for beg_i in range(0, X_train_tensor.size(0), batch_size):\n",
    "        x_batch = X_train_tensor[beg_i:beg_i + batch_size, :]\n",
    "        y_batch = y_train_tensor[beg_i:beg_i + batch_size, :]\n",
    "        \n",
    "        optimizer.zero_grad()\n",
    "        output =  model(x_batch.float())        \n",
    "        loss = criterion(output,y_batch.float())        \n",
    "        loss.backward()\n",
    "        optimizer.step()\n",
    "        position += 1\n",
    "        running_loss += loss.item()\n",
    "    else:\n",
    "        print(f\"Training loss: {running_loss/len(X_train_tensor)}\")"
   ]
  },
  {
   "cell_type": "code",
   "execution_count": 19,
   "metadata": {
    "hidden": true
   },
   "outputs": [
    {
     "name": "stdout",
     "output_type": "stream",
     "text": [
      "Test Loss: 0.063895\n",
      "\n",
      "Test Accuracy of benign: 97% (33/34)\n",
      "Test Accuracy of malware: 91% (42/46)\n",
      "\n",
      "Test Accuracy (Overall): 93% (75/80)\n"
     ]
    }
   ],
   "source": [
    "test_loss = 0.0\n",
    "class_correct = list(0 for i in range(2))\n",
    "class_total = list(0. for i in range(2))\n",
    "model.eval()\n",
    "# iterate over test data\n",
    "for index in range(0, X_test_tensor.size(0)):       \n",
    "    \n",
    "    # forward pass: compute predicted outputs by passing inputs to the model\n",
    "    output = model(X_test_tensor[index].float())\n",
    "    if output > 0.5 :\n",
    "        prediction = 1 \n",
    "    else:\n",
    "        prediction = 0     \n",
    "    \n",
    "    # calculate the batch loss\n",
    "    loss = criterion(output, y_test_tensor[index].float())\n",
    "    # update test loss \n",
    "    test_loss += loss.item()\n",
    "    # convert output probabilities to predicted class\n",
    "    #_, pred = torch.max(output, 1)\n",
    "    \n",
    "    # compare predictions to true label\n",
    "    #correct_tensor = pred.eq(y_test_tensor[index].long())\n",
    "    #correct = np.squeeze(correct_tensor.numpy())\n",
    "    \n",
    "    label = y_test_tensor.data[index].numpy()[0]  \n",
    "    \n",
    "    if label == prediction:\n",
    "        class_correct[label] += 1\n",
    "\n",
    "    class_total[label] += 1\n",
    "         \n",
    "# average test loss\n",
    "test_loss = test_loss/len(X_test_tensor)\n",
    "print('Test Loss: {:.6f}\\n'.format(test_loss))\n",
    "\n",
    "for i in range(0,2):\n",
    "    if class_total[i] > 0:\n",
    "        print('Test Accuracy of %5s: %2d%% (%2d/%2d)' % (\n",
    "            cat_to_name[str(i)], 100 * class_correct[i] / class_total[i],\n",
    "            np.sum(class_correct[i]), np.sum(class_total[i])))\n",
    "    else:\n",
    "        print('Test Accuracy of %5s: N/A (no training examples)' % (pred[i]))\n",
    "\n",
    "print('\\nTest Accuracy (Overall): %2d%% (%2d/%2d)' % (\n",
    "    100. * np.sum(class_correct) / np.sum(class_total),\n",
    "    np.sum(class_correct), np.sum(class_total)))"
   ]
  },
  {
   "cell_type": "markdown",
   "metadata": {},
   "source": [
    "### Dynamic Analysis"
   ]
  },
  {
   "cell_type": "code",
   "execution_count": null,
   "metadata": {},
   "outputs": [],
   "source": []
  }
 ],
 "metadata": {
  "kernelspec": {
   "display_name": "Python 3",
   "language": "python",
   "name": "python3"
  },
  "language_info": {
   "codemirror_mode": {
    "name": "ipython",
    "version": 3
   },
   "file_extension": ".py",
   "mimetype": "text/x-python",
   "name": "python",
   "nbconvert_exporter": "python",
   "pygments_lexer": "ipython3",
   "version": "3.6.8"
  }
 },
 "nbformat": 4,
 "nbformat_minor": 2
}
